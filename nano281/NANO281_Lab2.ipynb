{
 "cells": [
  {
   "cell_type": "code",
   "execution_count": 1,
   "metadata": {
    "id": "Qz7jBojHxf7N"
   },
   "outputs": [],
   "source": [
    "import pandas as pd\n",
    "import numpy as np\n",
    "import matplotlib.pyplot as plt\n"
   ]
  },
  {
   "cell_type": "code",
   "execution_count": null,
   "metadata": {
    "id": "gtfRO9JqIq9s"
   },
   "outputs": [],
   "source": [
    "!pip install pymatgen"
   ]
  },
  {
   "cell_type": "code",
   "execution_count": 4,
   "metadata": {
    "id": "RPSqVfdTJTtf"
   },
   "outputs": [],
   "source": [
    "from pymatgen import Composition"
   ]
  },
  {
   "cell_type": "markdown",
   "metadata": {
    "id": "gTdSW0wcym1r"
   },
   "source": [
    "**Q1 - Exploratory data analysis (10 points)**"
   ]
  },
  {
   "cell_type": "markdown",
   "metadata": {
    "id": "XXn61CevHEpo"
   },
   "source": [
    "**1. How many elements are there in this data set?**\n",
    "\n",
    "  ANS: There are 124515 elements\n",
    "\n",
    "**2. What is the maximum number of elements (max_el) in a single structure?**\n",
    "\n",
    "  ANS: The maximum number is 9.\n",
    "\n",
    "**3. Plot a barplot of the number of materials having 1, 2, 3, ... max_els. Use a log scale for the y-axis.**\n",
    "\n",
    "ANS: Shown below\n",
    "\n",
    "**4. Count the number of materials where each element is present. Sort this count and answer the following questions. What are the 10 most common elements in this data set? and what are the 10 least common elements in this data set?**\n",
    "\n",
    "ANS: \n",
    "\n",
    "10 Most common:\n",
    "'O','Li','P','Mn','S','Fe','N','F','Si','Mg'\n",
    "\n",
    "10 Most uncommon:\n",
    "'Ne','Ar','He','Kr','Xe','Pa','Ac','Np','Pu','Pm'"
   ]
  },
  {
   "cell_type": "code",
   "execution_count": 5,
   "metadata": {
    "colab": {
     "base_uri": "https://localhost:8080/"
    },
    "id": "oa5bgGgNylAP",
    "outputId": "1874198c-5548-41ad-8757-a87615ae190b"
   },
   "outputs": [
    {
     "data": {
      "text/plain": [
       "(124515, 6)"
      ]
     },
     "execution_count": 5,
     "metadata": {
      "tags": []
     },
     "output_type": "execute_result"
    }
   ],
   "source": [
    "url = 'https://raw.githubusercontent.com/materialsvirtuallab/nano281/master/labs/lab2/data.csv'\n",
    "orig_data = pd.read_csv(url,na_filter=False,engine='python')\n",
    "orig_data.shape"
   ]
  },
  {
   "cell_type": "code",
   "execution_count": 6,
   "metadata": {
    "colab": {
     "base_uri": "https://localhost:8080/"
    },
    "id": "8VRiyLViI-ve",
    "outputId": "44ed9261-b823-4b53-fb96-15ed357f0bef"
   },
   "outputs": [
    {
     "data": {
      "text/plain": [
       "9.0"
      ]
     },
     "execution_count": 6,
     "metadata": {
      "tags": []
     },
     "output_type": "execute_result"
    }
   ],
   "source": [
    "formulas = orig_data.loc[:,'formula']\n",
    "comp = np.zeros(orig_data.shape[0])\n",
    "for i in range(0,orig_data.shape[0]):\n",
    "  comp[i] = len(Composition(str(formulas[i])))\n",
    "np.amax(comp)"
   ]
  },
  {
   "cell_type": "code",
   "execution_count": 7,
   "metadata": {
    "colab": {
     "base_uri": "https://localhost:8080/",
     "height": 334
    },
    "id": "Vq6iMiXx7NSs",
    "outputId": "64acde31-f5bf-48c5-b9cb-b3d123ef9d57"
   },
   "outputs": [
    {
     "data": {
      "image/png": "[encoded data removed]",
      "text/plain": [
       "<Figure size 1080x360 with 1 Axes>"
      ]
     },
     "metadata": {
      "needs_background": "light",
      "tags": []
     },
     "output_type": "display_data"
    }
   ],
   "source": [
    "uniqueNum,counts = np.unique(comp, return_counts=True)\n",
    "objects = ('1','2','3','4','5','6','7','8','9') \n",
    "plt.figure(figsize = (15, 5)) \n",
    "plt.bar(objects, counts,align='center', alpha=0.5)\n",
    "plt.yscale('log')\n",
    "plt.xlabel('Number of elements')\n",
    "plt.ylabel('Counts')\n",
    "plt.show()"
   ]
  },
  {
   "cell_type": "code",
   "execution_count": 8,
   "metadata": {
    "colab": {
     "base_uri": "https://localhost:8080/"
    },
    "id": "Y8_6KdLX7l57",
    "outputId": "ee7fa2c1-adfd-40e9-cb20-6964ed33e60e"
   },
   "outputs": [
    {
     "name": "stderr",
     "output_type": "stream",
     "text": [
      "/usr/local/lib/python3.6/dist-packages/pymatgen/core/periodic_table.py:441: UserWarning:\n",
      "\n",
      "No electronegativity for He. Setting to NaN. This has no physical meaning, and is mainly done to avoid errors caused by the code expecting a float.\n",
      "\n",
      "/usr/local/lib/python3.6/dist-packages/pymatgen/core/periodic_table.py:441: UserWarning:\n",
      "\n",
      "No electronegativity for Ne. Setting to NaN. This has no physical meaning, and is mainly done to avoid errors caused by the code expecting a float.\n",
      "\n",
      "/usr/local/lib/python3.6/dist-packages/pymatgen/core/periodic_table.py:441: UserWarning:\n",
      "\n",
      "No electronegativity for Ar. Setting to NaN. This has no physical meaning, and is mainly done to avoid errors caused by the code expecting a float.\n",
      "\n"
     ]
    }
   ],
   "source": [
    "element = [] #declear an empty list\n",
    "for i in range(0,orig_data.shape[0]):\n",
    "  comp_e = Composition(str(formulas[i]))\n",
    "  element.append(comp_e.to_data_dict['unit_cell_composition'])"
   ]
  },
  {
   "cell_type": "code",
   "execution_count": 9,
   "metadata": {
    "id": "mYXv5GID-aML"
   },
   "outputs": [],
   "source": [
    "from collections import defaultdict\n",
    "d = defaultdict(list)\n",
    "for i in range(orig_data.shape[0]):\n",
    "  for k,v in element[i].items():\n",
    "    d[k].append(v)"
   ]
  },
  {
   "cell_type": "code",
   "execution_count": null,
   "metadata": {
    "id": "TRggeWFX_UoH"
   },
   "outputs": [],
   "source": [
    "res = sorted(d, key = lambda key: len(d[key]))"
   ]
  },
  {
   "cell_type": "code",
   "execution_count": null,
   "metadata": {
    "id": "zj0vDkYSGtUH"
   },
   "outputs": [],
   "source": [
    "list(res)"
   ]
  },
  {
   "cell_type": "code",
   "execution_count": 10,
   "metadata": {
    "colab": {
     "base_uri": "https://localhost:8080/",
     "height": 204
    },
    "id": "-CXZR992lcBm",
    "outputId": "e840cf57-45c8-4ca4-e4f8-10716eb01fe7"
   },
   "outputs": [
    {
     "data": {
      "text/html": [
       "<div>\n",
       "<style scoped>\n",
       "    .dataframe tbody tr th:only-of-type {\n",
       "        vertical-align: middle;\n",
       "    }\n",
       "\n",
       "    .dataframe tbody tr th {\n",
       "        vertical-align: top;\n",
       "    }\n",
       "\n",
       "    .dataframe thead th {\n",
       "        text-align: right;\n",
       "    }\n",
       "</style>\n",
       "<table border=\"1\" class=\"dataframe\">\n",
       "  <thead>\n",
       "    <tr style=\"text-align: right;\">\n",
       "      <th></th>\n",
       "      <th>task_id</th>\n",
       "      <th>formula</th>\n",
       "      <th>formation_energy_per_atom</th>\n",
       "      <th>e_above_hull</th>\n",
       "      <th>band_gap</th>\n",
       "      <th>has_bandstructure</th>\n",
       "    </tr>\n",
       "  </thead>\n",
       "  <tbody>\n",
       "    <tr>\n",
       "      <th>0</th>\n",
       "      <td>mp-1007923</td>\n",
       "      <td>CrNi3</td>\n",
       "      <td>-0.016354</td>\n",
       "      <td>0.000802</td>\n",
       "      <td>0.0</td>\n",
       "      <td>False</td>\n",
       "    </tr>\n",
       "    <tr>\n",
       "      <th>1</th>\n",
       "      <td>mp-1008754</td>\n",
       "      <td>TbHg2</td>\n",
       "      <td>-0.069428</td>\n",
       "      <td>0.329909</td>\n",
       "      <td>0.0</td>\n",
       "      <td>True</td>\n",
       "    </tr>\n",
       "    <tr>\n",
       "      <th>2</th>\n",
       "      <td>mp-1016886</td>\n",
       "      <td>MgVO3</td>\n",
       "      <td>-2.241438</td>\n",
       "      <td>0.545977</td>\n",
       "      <td>0.0</td>\n",
       "      <td>True</td>\n",
       "    </tr>\n",
       "    <tr>\n",
       "      <th>3</th>\n",
       "      <td>mp-1018902</td>\n",
       "      <td>PrSbPt</td>\n",
       "      <td>-1.111238</td>\n",
       "      <td>0.000000</td>\n",
       "      <td>0.0</td>\n",
       "      <td>True</td>\n",
       "    </tr>\n",
       "    <tr>\n",
       "      <th>4</th>\n",
       "      <td>mp-1020595</td>\n",
       "      <td>Rb8PO3</td>\n",
       "      <td>-0.772860</td>\n",
       "      <td>0.491666</td>\n",
       "      <td>0.0</td>\n",
       "      <td>True</td>\n",
       "    </tr>\n",
       "  </tbody>\n",
       "</table>\n",
       "</div>"
      ],
      "text/plain": [
       "      task_id formula  ...  band_gap  has_bandstructure\n",
       "0  mp-1007923   CrNi3  ...       0.0              False\n",
       "1  mp-1008754   TbHg2  ...       0.0               True\n",
       "2  mp-1016886   MgVO3  ...       0.0               True\n",
       "3  mp-1018902  PrSbPt  ...       0.0               True\n",
       "4  mp-1020595  Rb8PO3  ...       0.0               True\n",
       "\n",
       "[5 rows x 6 columns]"
      ]
     },
     "execution_count": 10,
     "metadata": {
      "tags": []
     },
     "output_type": "execute_result"
    }
   ],
   "source": [
    "orig_data.head()"
   ]
  },
  {
   "cell_type": "code",
   "execution_count": 11,
   "metadata": {
    "colab": {
     "base_uri": "https://localhost:8080/"
    },
    "id": "XCo2Iji7ljU_",
    "outputId": "2dd92d09-a900-486f-b48e-07a55db83178"
   },
   "outputs": [
    {
     "data": {
      "text/plain": [
       "(124515, 6)"
      ]
     },
     "execution_count": 11,
     "metadata": {
      "tags": []
     },
     "output_type": "execute_result"
    }
   ],
   "source": [
    "orig_data.shape"
   ]
  },
  {
   "cell_type": "markdown",
   "metadata": {
    "id": "oYgNpybEK846"
   },
   "source": [
    "**Q2 - Data cleaning and feature computations**"
   ]
  },
  {
   "cell_type": "markdown",
   "metadata": {
    "id": "huBtJayJLLfq"
   },
   "source": [
    "**1. Filter out materials that contain noble gas elements and save it in variable data. How many materials are left? Store this number in the variable n.**\n",
    "\n",
    "ANS: 124343 materials were left\n",
    "\n",
    "**2. Load the element property data file element_properties.csv in variable element_data using pandas by setting index_col=0 in pandas.read_csv function. How many NaN (Not a Number) are there in each column?**\n",
    "AtomicRadius               7\n",
    "AtomicVolume               2\n",
    "AtomicWeight               0\n",
    "BulkModulus               26\n",
    "BoilingT                   2\n",
    "Column                     0\n",
    "CovalentRadius             0\n",
    "Density                    2\n",
    "ElectronAffinity           9\n",
    "Electronegativity          4\n",
    "FirstIonizationEnergy      1\n",
    "HeatCapacityMass          10\n",
    "Row                        0\n",
    "phi                       22\n",
    "SecondIonizationEnergy    12\n",
    "ShearModulus              34\n",
    "\n",
    "**3.Compute the mean values for each column, ignoring the NaNs. For each column, fill the NaN with the mean value of that column. This is a common data imputation technique.**\n",
    "\n"
   ]
  },
  {
   "cell_type": "code",
   "execution_count": 12,
   "metadata": {
    "id": "xVjIii7MLRqe"
   },
   "outputs": [],
   "source": [
    "data_copy = orig_data\n",
    "for i in range(0,orig_data.shape[0]):\n",
    "  elem = Composition(str(formulas[i]))\n",
    "  for j in range(len(elem.elements)):\n",
    "    if 'Ar' == elem.elements[j].name:\n",
    "      data_copy = data_copy.drop(i)\n",
    "      break\n",
    "    elif 'He' == elem.elements[j].name:\n",
    "      data_copy = data_copy.drop(i)\n",
    "      break\n",
    "    elif 'Kr' == elem.elements[j].name:\n",
    "      data_copy = data_copy.drop(i)\n",
    "      break\n",
    "    elif 'Xe' == elem.elements[j].name:\n",
    "      data_copy = data_copy.drop(i)\n",
    "      break\n",
    "    elif 'Rn' == elem.elements[j].name:\n",
    "      data_copy = data_copy.drop(i)\n",
    "      break\n",
    "    elif 'Og' == elem.elements[j].name:\n",
    "      data_copy = data_copy.drop(i)\n",
    "      break\n",
    "n = data_copy.shape[0]\n",
    "data = data_copy"
   ]
  },
  {
   "cell_type": "code",
   "execution_count": null,
   "metadata": {
    "colab": {
     "base_uri": "https://localhost:8080/"
    },
    "id": "AKesPDZDe2sA",
    "outputId": "05e0ab70-ecea-496f-dac5-38ff97ab411f"
   },
   "outputs": [
    {
     "name": "stdout",
     "output_type": "stream",
     "text": [
      "124343\n"
     ]
    }
   ],
   "source": [
    "print(n)"
   ]
  },
  {
   "cell_type": "code",
   "execution_count": 18,
   "metadata": {
    "colab": {
     "base_uri": "https://localhost:8080/",
     "height": 419
    },
    "id": "z2_ZFKgWls01",
    "outputId": "50846b6e-6f9d-43a0-b5d1-ad968a55241b"
   },
   "outputs": [
    {
     "data": {
      "text/html": [
       "<div>\n",
       "<style scoped>\n",
       "    .dataframe tbody tr th:only-of-type {\n",
       "        vertical-align: middle;\n",
       "    }\n",
       "\n",
       "    .dataframe tbody tr th {\n",
       "        vertical-align: top;\n",
       "    }\n",
       "\n",
       "    .dataframe thead th {\n",
       "        text-align: right;\n",
       "    }\n",
       "</style>\n",
       "<table border=\"1\" class=\"dataframe\">\n",
       "  <thead>\n",
       "    <tr style=\"text-align: right;\">\n",
       "      <th></th>\n",
       "      <th>task_id</th>\n",
       "      <th>formula</th>\n",
       "      <th>formation_energy_per_atom</th>\n",
       "      <th>e_above_hull</th>\n",
       "      <th>band_gap</th>\n",
       "      <th>has_bandstructure</th>\n",
       "    </tr>\n",
       "  </thead>\n",
       "  <tbody>\n",
       "    <tr>\n",
       "      <th>0</th>\n",
       "      <td>mp-1007923</td>\n",
       "      <td>CrNi3</td>\n",
       "      <td>-0.016354</td>\n",
       "      <td>0.000802</td>\n",
       "      <td>0.0000</td>\n",
       "      <td>False</td>\n",
       "    </tr>\n",
       "    <tr>\n",
       "      <th>1</th>\n",
       "      <td>mp-1008754</td>\n",
       "      <td>TbHg2</td>\n",
       "      <td>-0.069428</td>\n",
       "      <td>0.329909</td>\n",
       "      <td>0.0000</td>\n",
       "      <td>True</td>\n",
       "    </tr>\n",
       "    <tr>\n",
       "      <th>2</th>\n",
       "      <td>mp-1016886</td>\n",
       "      <td>MgVO3</td>\n",
       "      <td>-2.241438</td>\n",
       "      <td>0.545977</td>\n",
       "      <td>0.0000</td>\n",
       "      <td>True</td>\n",
       "    </tr>\n",
       "    <tr>\n",
       "      <th>3</th>\n",
       "      <td>mp-1018902</td>\n",
       "      <td>PrSbPt</td>\n",
       "      <td>-1.111238</td>\n",
       "      <td>0.000000</td>\n",
       "      <td>0.0000</td>\n",
       "      <td>True</td>\n",
       "    </tr>\n",
       "    <tr>\n",
       "      <th>4</th>\n",
       "      <td>mp-1020595</td>\n",
       "      <td>Rb8PO3</td>\n",
       "      <td>-0.772860</td>\n",
       "      <td>0.491666</td>\n",
       "      <td>0.0000</td>\n",
       "      <td>True</td>\n",
       "    </tr>\n",
       "    <tr>\n",
       "      <th>...</th>\n",
       "      <td>...</td>\n",
       "      <td>...</td>\n",
       "      <td>...</td>\n",
       "      <td>...</td>\n",
       "      <td>...</td>\n",
       "      <td>...</td>\n",
       "    </tr>\n",
       "    <tr>\n",
       "      <th>124338</th>\n",
       "      <td>mvc-9995</td>\n",
       "      <td>Zn(MoO2)2</td>\n",
       "      <td>-1.774105</td>\n",
       "      <td>0.170001</td>\n",
       "      <td>0.6809</td>\n",
       "      <td>True</td>\n",
       "    </tr>\n",
       "    <tr>\n",
       "      <th>124339</th>\n",
       "      <td>mvc-9996</td>\n",
       "      <td>MgV2O4</td>\n",
       "      <td>-2.669536</td>\n",
       "      <td>0.053871</td>\n",
       "      <td>1.4898</td>\n",
       "      <td>True</td>\n",
       "    </tr>\n",
       "    <tr>\n",
       "      <th>124340</th>\n",
       "      <td>mvc-9997</td>\n",
       "      <td>Ca(CoO2)2</td>\n",
       "      <td>-1.777514</td>\n",
       "      <td>0.161485</td>\n",
       "      <td>0.0000</td>\n",
       "      <td>True</td>\n",
       "    </tr>\n",
       "    <tr>\n",
       "      <th>124341</th>\n",
       "      <td>mvc-9998</td>\n",
       "      <td>CaLaCrWO6</td>\n",
       "      <td>-2.890804</td>\n",
       "      <td>0.061516</td>\n",
       "      <td>2.1305</td>\n",
       "      <td>True</td>\n",
       "    </tr>\n",
       "    <tr>\n",
       "      <th>124342</th>\n",
       "      <td>mvc-9999</td>\n",
       "      <td>CaLaCrSnO6</td>\n",
       "      <td>-2.921317</td>\n",
       "      <td>0.033726</td>\n",
       "      <td>2.3708</td>\n",
       "      <td>True</td>\n",
       "    </tr>\n",
       "  </tbody>\n",
       "</table>\n",
       "<p>124343 rows × 6 columns</p>\n",
       "</div>"
      ],
      "text/plain": [
       "           task_id     formula  ...  band_gap  has_bandstructure\n",
       "0       mp-1007923       CrNi3  ...    0.0000              False\n",
       "1       mp-1008754       TbHg2  ...    0.0000               True\n",
       "2       mp-1016886       MgVO3  ...    0.0000               True\n",
       "3       mp-1018902      PrSbPt  ...    0.0000               True\n",
       "4       mp-1020595      Rb8PO3  ...    0.0000               True\n",
       "...            ...         ...  ...       ...                ...\n",
       "124338    mvc-9995   Zn(MoO2)2  ...    0.6809               True\n",
       "124339    mvc-9996      MgV2O4  ...    1.4898               True\n",
       "124340    mvc-9997   Ca(CoO2)2  ...    0.0000               True\n",
       "124341    mvc-9998   CaLaCrWO6  ...    2.1305               True\n",
       "124342    mvc-9999  CaLaCrSnO6  ...    2.3708               True\n",
       "\n",
       "[124343 rows x 6 columns]"
      ]
     },
     "execution_count": 18,
     "metadata": {
      "tags": []
     },
     "output_type": "execute_result"
    }
   ],
   "source": [
    "data_copy = data_copy.reset_index(drop=True)\n",
    "data_copy"
   ]
  },
  {
   "cell_type": "code",
   "execution_count": 15,
   "metadata": {
    "colab": {
     "base_uri": "https://localhost:8080/"
    },
    "id": "ZzAjqVVTl-P9",
    "outputId": "eea5f2ed-96a9-4ef7-a58e-923608970dd9"
   },
   "outputs": [
    {
     "data": {
      "text/plain": [
       "(124343, 6)"
      ]
     },
     "execution_count": 15,
     "metadata": {
      "tags": []
     },
     "output_type": "execute_result"
    }
   ],
   "source": [
    "data_copy.shape"
   ]
  },
  {
   "cell_type": "markdown",
   "metadata": {
    "id": "klJ6jxLZmFIw"
   },
   "source": [
    "**2. Load the element property data file element_properties.csv in variable element_data using pandas by setting index_col=0 in pandas.read_csv function. How many NaN (Not a Number) are there in each column?**"
   ]
  },
  {
   "cell_type": "code",
   "execution_count": null,
   "metadata": {
    "colab": {
     "base_uri": "https://localhost:8080/"
    },
    "id": "c6PH5G26fSGF",
    "outputId": "dde60c30-a72f-4c5b-b6ff-231b594f3750"
   },
   "outputs": [
    {
     "data": {
      "text/plain": [
       "(95, 16)"
      ]
     },
     "execution_count": 9,
     "metadata": {
      "tags": []
     },
     "output_type": "execute_result"
    }
   ],
   "source": [
    "url = 'https://raw.githubusercontent.com/materialsvirtuallab/nano281/master/labs/lab2/element_properties.csv'\n",
    "element_data = pd.read_csv(url,index_col=0,engine='python')\n",
    "element_data.shape"
   ]
  },
  {
   "cell_type": "code",
   "execution_count": null,
   "metadata": {
    "colab": {
     "base_uri": "https://localhost:8080/"
    },
    "id": "shX5QLT5k4KX",
    "outputId": "822baadc-6833-4e99-8a9a-b44638d99dab"
   },
   "outputs": [
    {
     "name": "stdout",
     "output_type": "stream",
     "text": [
      "AtomicRadius               7\n",
      "AtomicVolume               2\n",
      "AtomicWeight               0\n",
      "BulkModulus               26\n",
      "BoilingT                   2\n",
      "Column                     0\n",
      "CovalentRadius             0\n",
      "Density                    2\n",
      "ElectronAffinity           9\n",
      "Electronegativity          4\n",
      "FirstIonizationEnergy      1\n",
      "HeatCapacityMass          10\n",
      "Row                        0\n",
      "phi                       22\n",
      "SecondIonizationEnergy    12\n",
      "ShearModulus              34\n",
      "dtype: int64\n"
     ]
    }
   ],
   "source": [
    "count_nan_in_df = element_data.isnull().sum()\n",
    "print (count_nan_in_df)"
   ]
  },
  {
   "cell_type": "markdown",
   "metadata": {
    "id": "XmgeQ4UDmIKI"
   },
   "source": [
    "**3. Compute the mean values for each column, ignoring the NaNs. For each column, fill the NaN with the mean value of that column. This is a common data imputation technique.**"
   ]
  },
  {
   "cell_type": "code",
   "execution_count": null,
   "metadata": {
    "id": "JIuKHuccmNxl"
   },
   "outputs": [],
   "source": [
    "colum_mean = element_data.mean(axis=0,skipna=True)"
   ]
  },
  {
   "cell_type": "code",
   "execution_count": null,
   "metadata": {
    "colab": {
     "base_uri": "https://localhost:8080/"
    },
    "id": "P1jqcuVPW7HQ",
    "outputId": "45f9a165-0221-49bc-bb35-016a7c2ffaaf"
   },
   "outputs": [
    {
     "data": {
      "text/plain": [
       "AtomicRadius                 1.500682\n",
       "AtomicVolume              3426.442121\n",
       "AtomicWeight               116.153896\n",
       "BulkModulus                 90.794203\n",
       "BoilingT                  2549.858065\n",
       "Column                       8.315789\n",
       "CovalentRadius             151.810526\n",
       "Density                   7489.235725\n",
       "ElectronAffinity            76.162209\n",
       "Electronegativity            1.747033\n",
       "FirstIonizationEnergy        8.094711\n",
       "HeatCapacityMass             0.635447\n",
       "Row                          4.831579\n",
       "phi                          4.034247\n",
       "SecondIonizationEnergy      18.947504\n",
       "ShearModulus                47.362295\n",
       "dtype: float64"
      ]
     },
     "execution_count": 6,
     "metadata": {
      "tags": []
     },
     "output_type": "execute_result"
    }
   ],
   "source": [
    "colum_mean"
   ]
  },
  {
   "cell_type": "code",
   "execution_count": null,
   "metadata": {
    "id": "Uo4KesKDXO1f"
   },
   "outputs": [],
   "source": [
    "element_data_updated = element_data.fillna(element_data.mean())"
   ]
  },
  {
   "cell_type": "markdown",
   "metadata": {
    "id": "Xbe-4YuAX9db"
   },
   "source": [
    "**4. Compute the composition-averaged AtomicRadius for all materials and store the results in variable atomic_radius. For example, averaged AtomicRadius for Li2O can be computed as (2 * 1.45 + 0.6) / 3, where 1.45 is the AtomicRadius for Li and 0.6 is the AtomicRadius for O.**"
   ]
  },
  {
   "cell_type": "code",
   "execution_count": null,
   "metadata": {
    "colab": {
     "base_uri": "https://localhost:8080/"
    },
    "id": "YUimlS46YuXR",
    "outputId": "1b0dffd0-6f0d-4c6a-cb5c-0e5eb378fbaf"
   },
   "outputs": [
    {
     "name": "stderr",
     "output_type": "stream",
     "text": [
      "/usr/local/lib/python3.6/dist-packages/pymatgen/core/periodic_table.py:441: UserWarning:\n",
      "\n",
      "No electronegativity for He. Setting to NaN. This has no physical meaning, and is mainly done to avoid errors caused by the code expecting a float.\n",
      "\n",
      "/usr/local/lib/python3.6/dist-packages/pymatgen/core/periodic_table.py:441: UserWarning:\n",
      "\n",
      "No electronegativity for Ne. Setting to NaN. This has no physical meaning, and is mainly done to avoid errors caused by the code expecting a float.\n",
      "\n",
      "/usr/local/lib/python3.6/dist-packages/pymatgen/core/periodic_table.py:441: UserWarning:\n",
      "\n",
      "No electronegativity for Ar. Setting to NaN. This has no physical meaning, and is mainly done to avoid errors caused by the code expecting a float.\n",
      "\n"
     ]
    }
   ],
   "source": [
    "atomic_radius = np.zeros(orig_data.shape[0])\n",
    "for i in range(0,orig_data.shape[0]):\n",
    "  elem = Composition(str(formulas[i]))\n",
    "  num = np.zeros(len(elem.elements))\n",
    "  r   = np.zeros(len(elem.elements))\n",
    "  for j in range(len(elem.elements)):\n",
    "    num[j] = elem.to_data_dict['unit_cell_composition'][elem.elements[j].name]\n",
    "    r[j]   = element_data_updated.loc[elem.elements[j].name,'AtomicRadius']   \n",
    "  temp = np.multiply(num,r)\n",
    "  temp = temp.sum()\n",
    "  atomic_radius[i] = temp/num.sum()"
   ]
  },
  {
   "cell_type": "code",
   "execution_count": 25,
   "metadata": {
    "colab": {
     "base_uri": "https://localhost:8080/",
     "height": 164
    },
    "id": "6aDZp8v1kD53",
    "outputId": "879479e6-0e41-4e4a-cd6f-7a2504dc2999"
   },
   "outputs": [
    {
     "ename": "NameError",
     "evalue": "ignored",
     "output_type": "error",
     "traceback": [
      "\u001b[0;31m---------------------------------------------------------------------------\u001b[0m",
      "\u001b[0;31mNameError\u001b[0m                                 Traceback (most recent call last)",
      "\u001b[0;32m<ipython-input-25-404b78d5b84b>\u001b[0m in \u001b[0;36m<module>\u001b[0;34m()\u001b[0m\n\u001b[0;32m----> 1\u001b[0;31m \u001b[0matomic_radius\u001b[0m\u001b[0;34m\u001b[0m\u001b[0;34m\u001b[0m\u001b[0m\n\u001b[0m",
      "\u001b[0;31mNameError\u001b[0m: name 'atomic_radius' is not defined"
     ]
    }
   ],
   "source": [
    "atomic_radius"
   ]
  },
  {
   "cell_type": "markdown",
   "metadata": {
    "id": "yWSXhEXKLg0t"
   },
   "source": [
    "**5. Compute the composition-averaged properties for all properties in element_data and for all materials. Store the results in the variable average_properties. average_properties should have a dimension of (n, 16) where n is the number of materials and 16 is the number of properties.**"
   ]
  },
  {
   "cell_type": "code",
   "execution_count": null,
   "metadata": {
    "colab": {
     "base_uri": "https://localhost:8080/"
    },
    "id": "si6LPMHTLlIL",
    "outputId": "52642098-61d5-4c7f-ca5b-2f5352480143"
   },
   "outputs": [
    {
     "name": "stderr",
     "output_type": "stream",
     "text": [
      "/usr/local/lib/python3.6/dist-packages/ipykernel_launcher.py:17: RuntimeWarning:\n",
      "\n",
      "invalid value encountered in double_scalars\n",
      "\n",
      "/usr/local/lib/python3.6/dist-packages/pymatgen/core/periodic_table.py:441: UserWarning:\n",
      "\n",
      "No electronegativity for He. Setting to NaN. This has no physical meaning, and is mainly done to avoid errors caused by the code expecting a float.\n",
      "\n",
      "/usr/local/lib/python3.6/dist-packages/pymatgen/core/periodic_table.py:441: UserWarning:\n",
      "\n",
      "No electronegativity for Ne. Setting to NaN. This has no physical meaning, and is mainly done to avoid errors caused by the code expecting a float.\n",
      "\n",
      "/usr/local/lib/python3.6/dist-packages/pymatgen/core/periodic_table.py:441: UserWarning:\n",
      "\n",
      "No electronegativity for Ar. Setting to NaN. This has no physical meaning, and is mainly done to avoid errors caused by the code expecting a float.\n",
      "\n"
     ]
    }
   ],
   "source": [
    "n = orig_data.shape[0]\n",
    "average_properties = np.zeros((n,16))\n",
    "list_of_property = ['AtomicRadius','AtomicVolume','AtomicWeight','BulkModulus','BoilingT',\n",
    "                    'Column','CovalentRadius','Density','ElectronAffinity','Electronegativity',\n",
    "                    'FirstIonizationEnergy','HeatCapacityMass','Row','phi','SecondIonizationEnergy',\n",
    "                    'ShearModulus']\n",
    "for idx_x in range(n):\n",
    "  elem = Composition(str(formulas[idx_x]))\n",
    "  num  = np.zeros(len(elem.elements))\n",
    "  r    = num\n",
    "  for idx_y in range(16):   \n",
    "      for j in range(len(r)):\n",
    "        num[j] = elem.to_data_dict['unit_cell_composition'][elem.elements[j].name]\n",
    "        r[j]   = element_data_updated.loc[elem.elements[j].name,list_of_property[idx_y]]   \n",
    "      temp = np.multiply(num,r)\n",
    "      temp = temp.sum()\n",
    "      average_properties[idx_x,idx_y] = temp/num.sum()"
   ]
  },
  {
   "cell_type": "code",
   "execution_count": null,
   "metadata": {
    "colab": {
     "base_uri": "https://localhost:8080/"
    },
    "id": "BIMZ3GmNDPlU",
    "outputId": "0fe5ce0e-df4c-49d5-df40-05c635c08dd6"
   },
   "outputs": [
    {
     "data": {
      "text/plain": [
       "array([[1.37545455e+00, 1.15459008e+01, 5.55473610e+01, ...,\n",
       "        4.94035533e+00, 1.73681443e+01, 9.94816754e+01],\n",
       "       [1.63461538e+00, 2.88561661e+01, 1.82171957e+02, ...,\n",
       "        3.77113360e+00, 1.60032747e+01, 3.93180040e+01],\n",
       "       [1.28478261e+00, 1.85552430e+04, 3.77195057e+01, ...,\n",
       "        3.94061478e+00, 2.58317747e+01, 4.25744368e+01],\n",
       "       ...,\n",
       "       [1.44600000e+00, 1.85385255e+04, 4.63900596e+01, ...,\n",
       "        4.17550632e+00, 2.60046060e+01, 6.10573895e+01],\n",
       "       [1.57535211e+00, 1.84846014e+04, 1.33832771e+02, ...,\n",
       "        4.03499534e+00, 2.23717417e+01, 1.20778715e+02],\n",
       "       [1.59236111e+00, 1.84736536e+04, 1.03783866e+02, ...,\n",
       "        3.86281087e+00, 2.22341223e+01, 7.95140985e+01]])"
      ]
     },
     "execution_count": 23,
     "metadata": {
      "tags": []
     },
     "output_type": "execute_result"
    }
   ],
   "source": [
    "average_properties"
   ]
  },
  {
   "cell_type": "markdown",
   "metadata": {
    "id": "Va_gWzAEGqPX"
   },
   "source": [
    "**6. Similar to the previous computations of average properties, compute the maximum properties and minimum properties for all properties and all materials, and store them in variables max_properties and min_properties respectively. Both variables should have dimension (n, 16).**"
   ]
  },
  {
   "cell_type": "code",
   "execution_count": null,
   "metadata": {
    "id": "6Z95nbjwGpIL"
   },
   "outputs": [],
   "source": [
    "n = orig_data.shape[0]\n",
    "max_properties = np.zeros((n,16))\n",
    "min_properties = np.zeros((n,16))\n",
    "list_of_property = ['AtomicRadius','AtomicVolume','AtomicWeight','BulkModulus','BoilingT',\n",
    "                    'Column','CovalentRadius','Density','ElectronAffinity','Electronegativity',\n",
    "                    'FirstIonizationEnergy','HeatCapacityMass','Row','phi','SecondIonizationEnergy',\n",
    "                    'ShearModulus']\n",
    "for idx_x in range(n):\n",
    "  elem = Composition(str(formulas[idx_x]))\n",
    "  r    = np.zeros(len(elem.elements))\n",
    "  for idx_y in range(16):   \n",
    "      for j in range(len(r)):\n",
    "        r[j]   = element_data_updated.loc[elem.elements[j].name,list_of_property[idx_y]]   \n",
    "      max_properties[idx_x,idx_y] = np.amax(r)\n",
    "      min_properties[idx_x,idx_y] = np.amin(r)"
   ]
  },
  {
   "cell_type": "markdown",
   "metadata": {
    "id": "Uva0ARrEJbs_"
   },
   "source": [
    "**7.Concatenate average_properties, max_properties and min_properties, and store the result in variable design_matrix with dimension (n, 48).**"
   ]
  },
  {
   "cell_type": "code",
   "execution_count": null,
   "metadata": {
    "id": "bqAxD8mXJiHG"
   },
   "outputs": [],
   "source": [
    " design_matrix = np.concatenate((average_properties,max_properties,min_properties))"
   ]
  },
  {
   "cell_type": "markdown",
   "metadata": {
    "id": "OANVUAiFMMdb"
   },
   "source": [
    "**Q3 - Regression and classification modeling (40 points)**"
   ]
  },
  {
   "cell_type": "markdown",
   "metadata": {
    "id": "km5im2QyMQeu"
   },
   "source": [
    "**1. Split the data (design_matrix as X, and targets as y) into training and test sets in the ratio 90%:10%. Store the training data in variables train_X and train_y and the test data as variables test_X and test_y. To make sure the data is reproducible, set the random_state=42 in sklearn.model_selection.train_test_split.**"
   ]
  },
  {
   "cell_type": "code",
   "execution_count": null,
   "metadata": {
    "id": "AJZEjy14MbYv"
   },
   "outputs": [],
   "source": []
  }
 ],
 "metadata": {
  "colab": {
   "collapsed_sections": [],
   "name": "NANO281 Lab2.ipynb",
   "provenance": []
  },
  "kernelspec": {
   "display_name": "Python 3",
   "language": "python",
   "name": "python3"
  },
  "language_info": {
   "codemirror_mode": {
    "name": "ipython",
    "version": 3
   },
   "file_extension": ".py",
   "mimetype": "text/x-python",
   "name": "python",
   "nbconvert_exporter": "python",
   "pygments_lexer": "ipython3",
   "version": "3.7.9"
  }
 },
 "nbformat": 4,
 "nbformat_minor": 1
}
